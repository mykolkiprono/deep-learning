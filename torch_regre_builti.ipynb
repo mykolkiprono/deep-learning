{
 "cells": [
  {
   "cell_type": "code",
   "execution_count": 17,
   "id": "dd936fbc",
   "metadata": {},
   "outputs": [],
   "source": [
    "import torch\n",
    "import torch.nn as nn\n",
    "import numpy as np"
   ]
  },
  {
   "cell_type": "code",
   "execution_count": 71,
   "id": "e89c167b",
   "metadata": {},
   "outputs": [
    {
     "data": {
      "text/plain": [
       "(20, 2)"
      ]
     },
     "execution_count": 71,
     "metadata": {},
     "output_type": "execute_result"
    }
   ],
   "source": [
    "x = np.random.randn(20,2).astype('float32')\n",
    "x.shape"
   ]
  },
  {
   "cell_type": "code",
   "execution_count": 72,
   "id": "99a7d81f",
   "metadata": {},
   "outputs": [
    {
     "data": {
      "text/plain": [
       "(20, 1)"
      ]
     },
     "execution_count": 72,
     "metadata": {},
     "output_type": "execute_result"
    }
   ],
   "source": [
    "y = np.arange(20, dtype = np.float32)\n",
    "y = y[...,np.newaxis]\n",
    "y.shape"
   ]
  },
  {
   "cell_type": "code",
   "execution_count": 73,
   "id": "d011688b",
   "metadata": {},
   "outputs": [],
   "source": [
    "inputs  = torch.from_numpy(x)\n",
    "targets = torch.from_numpy(y)"
   ]
  },
  {
   "cell_type": "code",
   "execution_count": 75,
   "id": "5397caef",
   "metadata": {},
   "outputs": [
    {
     "data": {
      "text/plain": [
       "(torch.Size([20, 2]), torch.Size([20, 1]))"
      ]
     },
     "execution_count": 75,
     "metadata": {},
     "output_type": "execute_result"
    }
   ],
   "source": [
    "inputs.shape,targets.shape"
   ]
  },
  {
   "cell_type": "code",
   "execution_count": 76,
   "id": "a6de7c3a",
   "metadata": {},
   "outputs": [],
   "source": [
    "from torch.utils.data import TensorDataset"
   ]
  },
  {
   "cell_type": "code",
   "execution_count": 77,
   "id": "98da6681",
   "metadata": {},
   "outputs": [
    {
     "data": {
      "text/plain": [
       "(tensor([[-1.2943, -1.0099],\n",
       "         [ 2.3307,  1.7659],\n",
       "         [-2.3683,  0.4250]]),\n",
       " tensor([[0.],\n",
       "         [1.],\n",
       "         [2.]]))"
      ]
     },
     "execution_count": 77,
     "metadata": {},
     "output_type": "execute_result"
    }
   ],
   "source": [
    "train_ds = TensorDataset(inputs, targets)\n",
    "\n",
    "train_ds[:3]"
   ]
  },
  {
   "cell_type": "code",
   "execution_count": 78,
   "id": "3b3ddf7d",
   "metadata": {},
   "outputs": [],
   "source": [
    "from torch.utils.data import DataLoader # split data into batches"
   ]
  },
  {
   "cell_type": "code",
   "execution_count": 79,
   "id": "45bb9a0a",
   "metadata": {},
   "outputs": [],
   "source": [
    "batch_Size = 5\n",
    "train_dl =  DataLoader(train_ds, batch_Size, shuffle = True)"
   ]
  },
  {
   "cell_type": "code",
   "execution_count": 80,
   "id": "ba220b70",
   "metadata": {},
   "outputs": [
    {
     "name": "stdout",
     "output_type": "stream",
     "text": [
      "tensor([[ 0.0114, -0.8892],\n",
      "        [ 0.8028, -0.5224],\n",
      "        [-1.7262, -0.7865],\n",
      "        [-1.2943, -1.0099],\n",
      "        [-0.1666, -1.0231]]) tensor([[15.],\n",
      "        [16.],\n",
      "        [19.],\n",
      "        [ 0.],\n",
      "        [ 8.]])\n"
     ]
    }
   ],
   "source": [
    " for xb, yb in train_dl:\n",
    "        print(xb, yb)\n",
    "        break"
   ]
  },
  {
   "cell_type": "code",
   "execution_count": 81,
   "id": "4efca851",
   "metadata": {},
   "outputs": [
    {
     "name": "stdout",
     "output_type": "stream",
     "text": [
      "Parameter containing:\n",
      "tensor([[ 0.1528, -0.4795]], requires_grad=True) Parameter containing:\n",
      "tensor([-0.2623], requires_grad=True)\n"
     ]
    }
   ],
   "source": [
    "#  define the model\n",
    "\n",
    "model = nn.Linear(2,1)\n",
    "print(model.weight, model.bias)"
   ]
  },
  {
   "cell_type": "code",
   "execution_count": 82,
   "id": "e2dfead9",
   "metadata": {},
   "outputs": [
    {
     "data": {
      "text/plain": [
       "[Parameter containing:\n",
       " tensor([[ 0.1528, -0.4795]], requires_grad=True),\n",
       " Parameter containing:\n",
       " tensor([-0.2623], requires_grad=True)]"
      ]
     },
     "execution_count": 82,
     "metadata": {},
     "output_type": "execute_result"
    }
   ],
   "source": [
    "#  parameters\n",
    "list(model.parameters())"
   ]
  },
  {
   "cell_type": "code",
   "execution_count": 83,
   "id": "8238294f",
   "metadata": {},
   "outputs": [
    {
     "data": {
      "text/plain": [
       "tensor([[ 0.0242],\n",
       "        [-0.7528],\n",
       "        [-0.8280],\n",
       "        [-0.0848],\n",
       "        [-0.5763],\n",
       "        [-0.2125],\n",
       "        [-0.1861],\n",
       "        [-0.1209],\n",
       "        [ 0.2029],\n",
       "        [-0.1319],\n",
       "        [-0.3470],\n",
       "        [ 0.1367],\n",
       "        [-0.3188],\n",
       "        [-0.2812],\n",
       "        [-0.3143],\n",
       "        [ 0.1659],\n",
       "        [ 0.1109],\n",
       "        [-0.7178],\n",
       "        [ 0.6827],\n",
       "        [-0.1489]], grad_fn=<AddmmBackward>)"
      ]
     },
     "execution_count": 83,
     "metadata": {},
     "output_type": "execute_result"
    }
   ],
   "source": [
    "preds = model(inputs)\n",
    "preds"
   ]
  },
  {
   "cell_type": "code",
   "execution_count": 84,
   "id": "1f905501",
   "metadata": {},
   "outputs": [],
   "source": [
    "#  loss function\n",
    "import torch.nn.functional as F\n"
   ]
  },
  {
   "cell_type": "code",
   "execution_count": 85,
   "id": "2937e7e7",
   "metadata": {},
   "outputs": [],
   "source": [
    "# define the loss function\n",
    "loss_fn = F.mse_loss"
   ]
  },
  {
   "cell_type": "code",
   "execution_count": 89,
   "id": "1e2da7f0",
   "metadata": {},
   "outputs": [
    {
     "data": {
      "text/plain": [
       "tensor(125.6491, grad_fn=<MseLossBackward>)"
      ]
     },
     "execution_count": 89,
     "metadata": {},
     "output_type": "execute_result"
    }
   ],
   "source": [
    "#  compute the loss for the current preds\n",
    "\n",
    "loss = loss_fn(model(inputs), targets)\n",
    "loss"
   ]
  },
  {
   "cell_type": "code",
   "execution_count": 91,
   "id": "1bf5ad89",
   "metadata": {},
   "outputs": [],
   "source": [
    "# optimizer\n",
    "\n",
    "opt = torch.optim.SGD(model.parameters(), lr = 0.001)"
   ]
  },
  {
   "cell_type": "markdown",
   "id": "4d29334f",
   "metadata": {},
   "source": [
    "## Train The Model"
   ]
  },
  {
   "cell_type": "code",
   "execution_count": 96,
   "id": "df9fe68b",
   "metadata": {},
   "outputs": [],
   "source": [
    "#  utility functions to train the model\n",
    "\n",
    "def fit(num_epochs, model, loss_f, opt):\n",
    "    # train for a given nuber of epochs\n",
    "    for epoch in range(num_epochs):\n",
    "\n",
    "        for xb, yb in  train_dl:\n",
    "            # 1. Generate preds\n",
    "            pred = model(xb)\n",
    "\n",
    "            # 2. Calculate the loss\n",
    "            loss = loss_fn(pred, yb)\n",
    "            # compute the grads\n",
    "            loss.backward()\n",
    "            # 4. Update the parameters using gradients\n",
    "            opt.step()\n",
    "            # 5. Reset the gradients to zero\n",
    "            opt.zero_grad()\n",
    "        # print the progress\n",
    "        if (epoch+1)%10 == 0:\n",
    "            print('Epoch [{}/{}], loss: {:.4f}'.format(epoch+1, num_epochs, loss.item()))\n",
    "        \n",
    "        "
   ]
  },
  {
   "cell_type": "code",
   "execution_count": 97,
   "id": "507f342e",
   "metadata": {},
   "outputs": [
    {
     "name": "stdout",
     "output_type": "stream",
     "text": [
      "Epoch [10/100], loss: 150.8906\n",
      "Epoch [20/100], loss: 90.8361\n",
      "Epoch [30/100], loss: 123.2227\n",
      "Epoch [40/100], loss: 76.3497\n",
      "Epoch [50/100], loss: 86.3798\n",
      "Epoch [60/100], loss: 80.1748\n",
      "Epoch [70/100], loss: 59.6872\n",
      "Epoch [80/100], loss: 75.2912\n",
      "Epoch [90/100], loss: 45.1784\n",
      "Epoch [100/100], loss: 5.1798\n"
     ]
    }
   ],
   "source": [
    "fit(100, model, loss_fn, opt)"
   ]
  },
  {
   "cell_type": "code",
   "execution_count": 99,
   "id": "5e777c9e",
   "metadata": {},
   "outputs": [
    {
     "data": {
      "text/plain": [
       "tensor([[7.4818],\n",
       "        [1.6059],\n",
       "        [4.4021],\n",
       "        [3.2701],\n",
       "        [3.0804],\n",
       "        [5.4387],\n",
       "        [6.8766],\n",
       "        [5.9566],\n",
       "        [7.5262],\n",
       "        [5.4534],\n",
       "        [5.8503],\n",
       "        [7.6197],\n",
       "        [5.8010],\n",
       "        [5.2708],\n",
       "        [4.9050],\n",
       "        [7.2429],\n",
       "        [6.4708],\n",
       "        [2.9844],\n",
       "        [9.2343],\n",
       "        [6.9986]], grad_fn=<AddmmBackward>)"
      ]
     },
     "execution_count": 99,
     "metadata": {},
     "output_type": "execute_result"
    }
   ],
   "source": [
    "preds = model(inputs)\n",
    "\n",
    "preds"
   ]
  },
  {
   "cell_type": "code",
   "execution_count": 100,
   "id": "f56b3480",
   "metadata": {},
   "outputs": [
    {
     "data": {
      "text/plain": [
       "tensor([[ 0.],\n",
       "        [ 1.],\n",
       "        [ 2.],\n",
       "        [ 3.],\n",
       "        [ 4.],\n",
       "        [ 5.],\n",
       "        [ 6.],\n",
       "        [ 7.],\n",
       "        [ 8.],\n",
       "        [ 9.],\n",
       "        [10.],\n",
       "        [11.],\n",
       "        [12.],\n",
       "        [13.],\n",
       "        [14.],\n",
       "        [15.],\n",
       "        [16.],\n",
       "        [17.],\n",
       "        [18.],\n",
       "        [19.]])"
      ]
     },
     "execution_count": 100,
     "metadata": {},
     "output_type": "execute_result"
    }
   ],
   "source": [
    "targets"
   ]
  },
  {
   "cell_type": "code",
   "execution_count": null,
   "id": "224fdd39",
   "metadata": {},
   "outputs": [],
   "source": []
  }
 ],
 "metadata": {
  "kernelspec": {
   "display_name": "Python 3",
   "language": "python",
   "name": "python3"
  },
  "language_info": {
   "codemirror_mode": {
    "name": "ipython",
    "version": 3
   },
   "file_extension": ".py",
   "mimetype": "text/x-python",
   "name": "python",
   "nbconvert_exporter": "python",
   "pygments_lexer": "ipython3",
   "version": "3.8.8"
  }
 },
 "nbformat": 4,
 "nbformat_minor": 5
}
