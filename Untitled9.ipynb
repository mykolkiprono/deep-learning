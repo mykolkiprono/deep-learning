{
 "cells": [
  {
   "cell_type": "code",
   "execution_count": null,
   "id": "847e762e",
   "metadata": {},
   "outputs": [
    {
     "name": "stdout",
     "output_type": "stream",
     "text": [
      "Collecting tensorflow-text\n",
      "  Using cached tensorflow_text-2.5.0-cp39-cp39-manylinux1_x86_64.whl (4.3 MB)\n",
      "Collecting tensorflow<2.6,>=2.5.0\n",
      "  Downloading tensorflow-2.5.0-cp39-cp39-manylinux2010_x86_64.whl (454.4 MB)\n",
      "\u001b[K     |████████████████                | 226.9 MB 2.6 kB/s eta 1 day, 0:02:589                             | 29.4 MB 568 kB/s eta 0:12:29     |███████▍                        | 104.8 MB 1.2 MB/s eta 0:04:42     |██████████▎                     | 145.3 MB 619 kB/s eta 0:08:20     |██████████▌                     | 149.1 MB 2.0 MB/s eta 0:02:36"
     ]
    }
   ],
   "source": [
    "pip install tensorflow-text"
   ]
  },
  {
   "cell_type": "code",
   "execution_count": null,
   "id": "4d7883e7",
   "metadata": {},
   "outputs": [],
   "source": []
  }
 ],
 "metadata": {
  "kernelspec": {
   "display_name": "Python 3",
   "language": "python",
   "name": "python3"
  },
  "language_info": {
   "codemirror_mode": {
    "name": "ipython",
    "version": 3
   },
   "file_extension": ".py",
   "mimetype": "text/x-python",
   "name": "python",
   "nbconvert_exporter": "python",
   "pygments_lexer": "ipython3",
   "version": "3.9.5"
  }
 },
 "nbformat": 4,
 "nbformat_minor": 5
}
