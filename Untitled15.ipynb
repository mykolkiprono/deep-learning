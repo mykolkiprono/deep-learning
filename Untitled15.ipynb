{
 "cells": [
  {
   "cell_type": "code",
   "execution_count": 1,
   "id": "ba23b078",
   "metadata": {},
   "outputs": [
    {
     "name": "stdout",
     "output_type": "stream",
     "text": [
      "Requirement already satisfied: gym in ./anaconda3/envs/tf/lib/python3.9/site-packages (0.18.3)\n",
      "Requirement already satisfied: numpy>=1.10.4 in ./anaconda3/envs/tf/lib/python3.9/site-packages (from gym) (1.20.2)\n",
      "Requirement already satisfied: cloudpickle<1.7.0,>=1.2.0 in ./anaconda3/envs/tf/lib/python3.9/site-packages (from gym) (1.6.0)\n",
      "Requirement already satisfied: pyglet<=1.5.15,>=1.4.0 in ./anaconda3/envs/tf/lib/python3.9/site-packages (from gym) (1.5.15)\n",
      "Requirement already satisfied: Pillow<=8.2.0 in ./anaconda3/envs/tf/lib/python3.9/site-packages (from gym) (8.2.0)\n",
      "Requirement already satisfied: scipy in ./anaconda3/envs/tf/lib/python3.9/site-packages (from gym) (1.6.2)\n"
     ]
    }
   ],
   "source": [
    "!pip install gym"
   ]
  },
  {
   "cell_type": "code",
   "execution_count": null,
   "id": "b9926f70",
   "metadata": {},
   "outputs": [
    {
     "name": "stdout",
     "output_type": "stream",
     "text": [
      "Collecting stable-baselines3[extra]\n",
      "  Using cached stable_baselines3-1.0-py3-none-any.whl (152 kB)\n",
      "Collecting torch>=1.4.0\n",
      "  Downloading torch-1.9.0-cp39-cp39-manylinux1_x86_64.whl (831.4 MB)\n",
      "\u001b[K     |██████████████████████████████▉ | 801.3 MB 953 kB/s eta 0:00:325   |▊                               | 18.3 MB 2.5 MB/s eta 0:05:26     |█▍                              | 37.5 MB 1.0 MB/s eta 0:13:07     |█▋                              | 42.6 MB 241 kB/s eta 0:54:21     |██                              | 51.1 MB 1.1 MB/s eta 0:11:47     |██                              | 54.5 MB 1.1 MB/s eta 0:11:52     |███▉                            | 99.1 MB 650 kB/s eta 0:18:46     |████                            | 103.1 MB 207 kB/s eta 0:58:22     |████▏                           | 108.1 MB 417 kB/s eta 0:28:54     |████▍                           | 115.0 MB 627 kB/s eta 0:19:02     |████▋                           | 119.8 MB 911 kB/s eta 0:13:02     |████▉                           | 125.2 MB 421 kB/s eta 0:27:57     |█████                           | 131.9 MB 311 kB/s eta 0:37:24     |█████▏                          | 133.9 MB 477 kB/s eta 0:24:20     |█████▊                          | 148.9 MB 2.7 MB/s eta 0:04:10     |██████                          | 156.1 MB 357 kB/s eta 0:31:30     |██████                          | 156.4 MB 302 kB/s eta 0:37:11     |██████▍                         | 166.1 MB 1.3 MB/s eta 0:08:43     |██████▌                         | 168.8 MB 1.6 MB/s eta 0:07:03     |██████▋                         | 170.4 MB 1.5 MB/s eta 0:07:15     |██████▊                         | 173.6 MB 1.6 MB/s eta 0:06:56     |███████                         | 181.2 MB 2.8 MB/s eta 0:03:55     |███████▎                        | 188.3 MB 3.4 MB/s eta 0:03:11     |███████▍                        | 191.6 MB 1.6 MB/s eta 0:06:37     |███████▋                        | 198.1 MB 1.5 MB/s eta 0:07:02     |████████▏                       | 211.5 MB 154 kB/s eta 1:06:44     |████████▏                       | 213.2 MB 202 kB/s eta 0:50:59     |████████▎                       | 213.7 MB 48 kB/s eta 3:30:41     |████████▎                       | 215.4 MB 726 kB/s eta 0:14:09     |████████▌                       | 222.2 MB 3.0 MB/s eta 0:03:24     |█████████▏                      | 238.3 MB 745 kB/s eta 0:13:16     |█████████▌                      | 246.1 MB 539 kB/s eta 0:18:06     |█████████▋                      | 250.7 MB 313 kB/s eta 0:30:55     |█████████▊                      | 251.8 MB 380 kB/s eta 0:25:25     |█████████▊                      | 253.1 MB 378 kB/s eta 0:25:28     |██████████▎                     | 266.3 MB 302 kB/s eta 0:31:06     |██████████▎                     | 267.0 MB 539 kB/s eta 0:17:26     |██████████▊                     | 277.4 MB 790 kB/s eta 0:11:41     |███████████▍                    | 295.0 MB 372 kB/s eta 0:24:00     |███████████▌                    | 297.5 MB 319 kB/s eta 0:27:52     |███████████▌                    | 298.0 MB 338 kB/s eta 0:26:16     |███████████▌                    | 299.0 MB 229 kB/s eta 0:38:45     |███████████▌                    | 299.7 MB 203 kB/s eta 0:43:32     |████████████                    | 309.1 MB 561 kB/s eta 0:15:30     |████████████                    | 312.5 MB 546 kB/s eta 0:15:51     |████████████                    | 314.6 MB 448 kB/s eta 0:19:13     |████████████▏                   | 315.0 MB 562 kB/s eta 0:15:18     |████████████▏                   | 315.7 MB 304 kB/s eta 0:28:12     |████████████▋                   | 328.2 MB 1.2 MB/s eta 0:07:00     |█████████████▏                  | 343.4 MB 684 kB/s eta 0:11:54     |█████████████▌                  | 350.0 MB 481 kB/s eta 0:16:39     |██████████████▏                 | 367.6 MB 1.2 MB/s eta 0:06:21     |███████████████▏                | 394.3 MB 1.6 MB/s eta 0:04:32     |████████████████                | 416.3 MB 1.1 MB/s eta 0:06:11     |████████████████▏               | 421.3 MB 810 kB/s eta 0:08:26     |████████████████▋               | 431.0 MB 617 kB/s eta 0:10:49     |████████████████▊               | 433.7 MB 1.1 MB/s eta 0:06:17     |█████████████████               | 441.0 MB 817 kB/s eta 0:07:58     |█████████████████               | 442.0 MB 913 kB/s eta 0:07:07     |█████████████████▏              | 446.1 MB 949 kB/s eta 0:06:46     |█████████████████▍              | 450.5 MB 920 kB/s eta 0:06:54     |██████████████████▍             | 477.1 MB 1.3 MB/s eta 0:04:29     |██████████████████▍             | 477.5 MB 1.1 MB/s eta 0:05:23     |██████████████████▌             | 481.3 MB 1.4 MB/s eta 0:04:03     |██████████████████▋             | 482.9 MB 1.3 MB/s eta 0:04:26     |██████████████████▉             | 488.3 MB 1.3 MB/s eta 0:04:29     |███████████████████             | 494.2 MB 196 kB/s eta 0:28:35     |███████████████████             | 495.2 MB 384 kB/s eta 0:14:34     |███████████████████▎            | 500.3 MB 248 kB/s eta 0:22:16     |███████████████████▎            | 500.3 MB 248 kB/s eta 0:22:15     |███████████████████▍            | 503.6 MB 819 kB/s eta 0:06:40     |████████████████████            | 518.2 MB 741 kB/s eta 0:07:03     |████████████████████            | 521.7 MB 804 kB/s eta 0:06:26     |████████████████████▏           | 523.0 MB 783 kB/s eta 0:06:34     |████████████████████▏           | 524.0 MB 497 kB/s eta 0:10:18     |████████████████████▍           | 528.5 MB 154 kB/s eta 0:32:42     |████████████████████▍           | 529.8 MB 77 kB/s eta 1:04:48     |████████████████████▍           | 529.8 MB 77 kB/s eta 1:04:30     |████████████████████▋           | 534.7 MB 1.5 MB/s eta 0:03:22     |████████████████████▋           | 536.5 MB 1.9 MB/s eta 0:02:34     |█████████████████████           | 544.3 MB 1.3 MB/s eta 0:03:34     |██████████████████████          | 570.0 MB 84 kB/s eta 0:51:35     |██████████████████████          | 570.9 MB 311 kB/s eta 0:13:56     |██████████████████████▍         | 582.3 MB 98 kB/s eta 0:42:01     |██████████████████████▍         | 582.5 MB 140 kB/s eta 0:29:31     |██████████████████████▌         | 583.6 MB 183 kB/s eta 0:22:29     |██████████████████████▌         | 583.8 MB 287 kB/s eta 0:14:22     |██████████████████████▋         | 586.4 MB 225 kB/s eta 0:18:07     |██████████████████████▋         | 588.4 MB 244 kB/s eta 0:16:36     |██████████████████████▊         | 590.0 MB 535 kB/s eta 0:07:32     |██████████████████████▊         | 590.2 MB 598 kB/s eta 0:06:43     |███████████████████████         | 595.4 MB 272 kB/s eta 0:14:25     |███████████████████████▏        | 600.8 MB 441 kB/s eta 0:08:43     |███████████████████████▋        | 612.4 MB 457 kB/s eta 0:08:00     |███████████████████████▋        | 613.5 MB 439 kB/s eta 0:08:17     |████████████████████████        | 624.3 MB 368 kB/s eta 0:09:22     |████████████████████████        | 624.9 MB 85 kB/s eta 0:40:23     |████████████████████████▏       | 626.6 MB 894 kB/s eta 0:03:50     |████████████████████████▊       | 642.7 MB 658 kB/s eta 0:04:47     |█████████████████████████▋      | 664.9 MB 202 kB/s eta 0:13:42     |█████████████████████████▋      | 665.6 MB 229 kB/s eta 0:12:04     |█████████████████████████▊      | 667.1 MB 153 kB/s eta 0:17:53     |█████████████████████████▊      | 667.5 MB 369 kB/s eta 0:07:24     |██████████████████████████▏     | 678.8 MB 258 kB/s eta 0:09:51     |██████████████████████████▏     | 679.5 MB 321 kB/s eta 0:07:52     |██████████████████████████▍     | 685.8 MB 458 kB/s eta 0:05:18     |██████████████████████████▌     | 689.5 MB 212 kB/s eta 0:11:09     |██████████████████████████▋     | 691.5 MB 446 kB/s eta 0:05:14     |██████████████████████████▋     | 691.7 MB 157 kB/s eta 0:14:49     |██████████████████████████▋     | 692.0 MB 85 kB/s eta 0:27:06     |██████████████████████████▋     | 692.8 MB 178 kB/s eta 0:12:56     |██████████████████████████▊     | 693.5 MB 265 kB/s eta 0:08:41     |██████████████████████████▊     | 695.0 MB 576 kB/s eta 0:03:57     |███████████████████████████▍    | 712.6 MB 1.1 MB/s eta 0:01:44     |████████████████████████████▎   | 734.1 MB 435 kB/s eta 0:03:44     |████████████████████████████▎   | 734.1 MB 435 kB/s eta 0:03:44     |████████████████████████████▎   | 735.6 MB 220 kB/s eta 0:07:15     |████████████████████████████▍   | 736.4 MB 271 kB/s eta 0:05:51"
     ]
    }
   ],
   "source": [
    "!pip install stable-baselines3[extra]"
   ]
  },
  {
   "cell_type": "code",
   "execution_count": null,
   "id": "7a9ae2ee",
   "metadata": {},
   "outputs": [],
   "source": []
  }
 ],
 "metadata": {
  "kernelspec": {
   "display_name": "Python 3",
   "language": "python",
   "name": "python3"
  },
  "language_info": {
   "codemirror_mode": {
    "name": "ipython",
    "version": 3
   },
   "file_extension": ".py",
   "mimetype": "text/x-python",
   "name": "python",
   "nbconvert_exporter": "python",
   "pygments_lexer": "ipython3",
   "version": "3.7.10"
  }
 },
 "nbformat": 4,
 "nbformat_minor": 5
}
