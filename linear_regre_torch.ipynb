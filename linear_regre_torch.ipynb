{
 "cells": [
  {
   "cell_type": "code",
   "execution_count": 1,
   "id": "b707d695",
   "metadata": {},
   "outputs": [],
   "source": [
    "import torch\n",
    "import numpy as np"
   ]
  },
  {
   "cell_type": "code",
   "execution_count": 2,
   "id": "9f8bc57d",
   "metadata": {},
   "outputs": [],
   "source": [
    "#  Training data\n",
    "inputs = np.array([[73,67,43,],\n",
    "                  [91,88,64],\n",
    "                  [102,43,37],\n",
    "                  [69,96,70]], dtype = 'float32')"
   ]
  },
  {
   "cell_type": "code",
   "execution_count": 3,
   "id": "e2bebb91",
   "metadata": {},
   "outputs": [],
   "source": [
    "#  targets (apples, oranages)\n",
    "targets = np.array([[56,70],\n",
    "                 [81,101],\n",
    "                  [119,133],\n",
    "                  [103,119]\n",
    "                 ], dtype = 'float32')"
   ]
  },
  {
   "cell_type": "code",
   "execution_count": 4,
   "id": "14b594d8",
   "metadata": {},
   "outputs": [],
   "source": [
    "#   converte to torch tesors\n",
    "inputs = torch.from_numpy(inputs)\n",
    "targets = torch.from_numpy(targets)"
   ]
  },
  {
   "cell_type": "markdown",
   "id": "26377957",
   "metadata": {},
   "source": [
    "#### Linear Regression model from scratch"
   ]
  },
  {
   "cell_type": "code",
   "execution_count": 5,
   "id": "b032bdd6",
   "metadata": {},
   "outputs": [
    {
     "data": {
      "text/plain": [
       "(tensor([[ 1.3361, -1.0135, -0.8507],\n",
       "         [ 0.7384, -1.1702,  0.6009]], requires_grad=True),\n",
       " tensor([ 1.2464, -0.1750], requires_grad=True))"
      ]
     },
     "execution_count": 5,
     "metadata": {},
     "output_type": "execute_result"
    }
   ],
   "source": [
    "#   weigths and biases\n",
    "w = torch.randn(2,3, requires_grad = True)\n",
    "b = torch.randn(2, requires_grad = True)\n",
    "\n",
    "w,b"
   ]
  },
  {
   "cell_type": "code",
   "execution_count": 6,
   "id": "93d0fdca",
   "metadata": {},
   "outputs": [],
   "source": [
    "def model(x):\n",
    "    return x@w.t() + b"
   ]
  },
  {
   "cell_type": "code",
   "execution_count": 7,
   "id": "0e41877e",
   "metadata": {},
   "outputs": [],
   "source": [
    "preds = model(inputs)"
   ]
  },
  {
   "cell_type": "markdown",
   "id": "1b1a2856",
   "metadata": {},
   "source": [
    "### Using Pytorch builtins"
   ]
  },
  {
   "cell_type": "code",
   "execution_count": 8,
   "id": "6c94a49f",
   "metadata": {},
   "outputs": [],
   "source": [
    "import torch.nn as nn\n",
    "from torch.utils.data import TensorDataset  # Allows access to rows from inpouts and targets as tuples and provides standard API"
   ]
  },
  {
   "cell_type": "code",
   "execution_count": 9,
   "id": "00fadf18",
   "metadata": {},
   "outputs": [],
   "source": [
    "#  define the dataset\n",
    "train_ds = TensorDataset(inputs, targets)"
   ]
  },
  {
   "cell_type": "code",
   "execution_count": 10,
   "id": "e4a55978",
   "metadata": {},
   "outputs": [
    {
     "data": {
      "text/plain": [
       "(tensor([73., 67., 43.]), tensor([56., 70.]))"
      ]
     },
     "execution_count": 10,
     "metadata": {},
     "output_type": "execute_result"
    }
   ],
   "source": [
    "train_ds[0]"
   ]
  },
  {
   "cell_type": "code",
   "execution_count": 11,
   "id": "e47421b9",
   "metadata": {},
   "outputs": [],
   "source": [
    "from torch.utils.data import DataLoader\n",
    "# The dataloader is used in for-in loop."
   ]
  },
  {
   "cell_type": "code",
   "execution_count": 12,
   "id": "b7808781",
   "metadata": {},
   "outputs": [],
   "source": [
    "# define data loaderDa\n",
    "batch_size = 3\n",
    "train_dl = DataLoader(train_ds, batch_size, shuffle = True)"
   ]
  },
  {
   "cell_type": "code",
   "execution_count": 13,
   "id": "790d456f",
   "metadata": {},
   "outputs": [
    {
     "name": "stdout",
     "output_type": "stream",
     "text": [
      "tensor([[102.,  43.,  37.],\n",
      "        [ 69.,  96.,  70.],\n",
      "        [ 73.,  67.,  43.]])\n",
      "tensor([[119., 133.],\n",
      "        [103., 119.],\n",
      "        [ 56.,  70.]])\n"
     ]
    }
   ],
   "source": [
    "for xb, yb in train_dl:\n",
    "    print(xb)\n",
    "    print(yb)\n",
    "    break"
   ]
  },
  {
   "cell_type": "markdown",
   "id": "f096f269",
   "metadata": {},
   "source": [
    "In each iteration dataloader returns one batch of data, with the guven batchsize. If shuffle is set to True, it shuffle s the training data before creating batches. shuffling helps ransomize the inpout to the optimization algoritm. which can kead to faster reduction in the loss"
   ]
  },
  {
   "cell_type": "markdown",
   "id": "3e98d74b",
   "metadata": {},
   "source": [
    "## nn.Linear"
   ]
  },
  {
   "cell_type": "code",
   "execution_count": 14,
   "id": "34d526a0",
   "metadata": {},
   "outputs": [
    {
     "data": {
      "text/plain": [
       "(Parameter containing:\n",
       " tensor([[-0.1258, -0.2920, -0.1228],\n",
       "         [-0.5275, -0.1612,  0.1222]], requires_grad=True),\n",
       " Parameter containing:\n",
       " tensor([ 0.3380, -0.1240], requires_grad=True))"
      ]
     },
     "execution_count": 14,
     "metadata": {},
     "output_type": "execute_result"
    }
   ],
   "source": [
    "# define the model\n",
    "\n",
    "model = nn.Linear(3,2)\n",
    "model.weight, model.bias"
   ]
  },
  {
   "cell_type": "code",
   "execution_count": 15,
   "id": "d7307c2e",
   "metadata": {},
   "outputs": [
    {
     "data": {
      "text/plain": [
       "[Parameter containing:\n",
       " tensor([[-0.1258, -0.2920, -0.1228],\n",
       "         [-0.5275, -0.1612,  0.1222]], requires_grad=True),\n",
       " Parameter containing:\n",
       " tensor([ 0.3380, -0.1240], requires_grad=True)]"
      ]
     },
     "execution_count": 15,
     "metadata": {},
     "output_type": "execute_result"
    }
   ],
   "source": [
    "#  parameters\n",
    "list(model.parameters())"
   ]
  },
  {
   "cell_type": "code",
   "execution_count": 16,
   "id": "502e32b6",
   "metadata": {},
   "outputs": [],
   "source": [
    "#  generate predictions \n",
    "preds= model(inputs)"
   ]
  },
  {
   "cell_type": "markdown",
   "id": "faa91fbf",
   "metadata": {},
   "source": [
    "## loss function"
   ]
  },
  {
   "cell_type": "code",
   "execution_count": 17,
   "id": "b8034e3d",
   "metadata": {},
   "outputs": [],
   "source": [
    "import torch.nn.functional as F"
   ]
  },
  {
   "cell_type": "code",
   "execution_count": 18,
   "id": "eed96eae",
   "metadata": {},
   "outputs": [],
   "source": [
    "# The nn.functional package onatins useful loss functions and several other utils"
   ]
  },
  {
   "cell_type": "code",
   "execution_count": 19,
   "id": "6de5f55c",
   "metadata": {},
   "outputs": [],
   "source": [
    "#  Define the loss\n",
    "loss_fn = F.mse_loss"
   ]
  },
  {
   "cell_type": "code",
   "execution_count": 20,
   "id": "e8e42844",
   "metadata": {},
   "outputs": [
    {
     "data": {
      "text/plain": [
       "tensor(20907.4883, grad_fn=<MseLossBackward>)"
      ]
     },
     "execution_count": 20,
     "metadata": {},
     "output_type": "execute_result"
    }
   ],
   "source": [
    "loss = loss_fn(model(inputs), targets)\n",
    "loss"
   ]
  },
  {
   "cell_type": "markdown",
   "id": "43193a05",
   "metadata": {},
   "source": [
    "## optimizer"
   ]
  },
  {
   "cell_type": "markdown",
   "id": "a6c08793",
   "metadata": {},
   "source": [
    " Instead of manually manupulating the model's weight and biases usin gradients. we can use the optimizer optim.SGD,\n",
    "    "
   ]
  },
  {
   "cell_type": "code",
   "execution_count": 21,
   "id": "2e956544",
   "metadata": {},
   "outputs": [],
   "source": [
    "opt = torch.optim.SGD(model.parameters(), lr = 0.001)"
   ]
  },
  {
   "cell_type": "markdown",
   "id": "b0d40322",
   "metadata": {},
   "source": [
    "Note that mode.parameters() is passed as an arguement to the opti.SGD, so that the optimizer knows which matruces should be modifired during the update step "
   ]
  },
  {
   "cell_type": "markdown",
   "id": "21c766ca",
   "metadata": {},
   "source": [
    "## Train the model"
   ]
  },
  {
   "cell_type": "code",
   "execution_count": 34,
   "id": "c1d3518a",
   "metadata": {},
   "outputs": [
    {
     "data": {
      "text/plain": [
       "(torch.Size([4, 3]), torch.Size([4, 2]), torch.Size([2, 3]), torch.Size([2]))"
      ]
     },
     "execution_count": 34,
     "metadata": {},
     "output_type": "execute_result"
    }
   ],
   "source": [
    "x = inputs\n",
    "y = targets\n",
    "x.shape, targets.shape, w.shape,b.shape"
   ]
  },
  {
   "cell_type": "code",
   "execution_count": 37,
   "id": "90261c02",
   "metadata": {},
   "outputs": [],
   "source": [
    " def model(x):\n",
    "        return x@w.t() +b"
   ]
  },
  {
   "cell_type": "code",
   "execution_count": 40,
   "id": "d3e617bb",
   "metadata": {},
   "outputs": [
    {
     "data": {
      "text/plain": [
       "(tensor([[ -5.7034,   1.1620],\n",
       "         [-20.8018,   2.4975],\n",
       "         [ 62.4711,  47.0543],\n",
       "         [-63.4078, -19.5030]], grad_fn=<AddBackward0>),\n",
       " tensor([[ 56.,  70.],\n",
       "         [ 81., 101.],\n",
       "         [119., 133.],\n",
       "         [103., 119.]]))"
      ]
     },
     "execution_count": 40,
     "metadata": {},
     "output_type": "execute_result"
    }
   ],
   "source": [
    "#  genrtrate predictions \n",
    "\n",
    "preds = model(x)\n",
    "preds, targets"
   ]
  },
  {
   "cell_type": "code",
   "execution_count": null,
   "id": "c3410500",
   "metadata": {},
   "outputs": [],
   "source": []
  }
 ],
 "metadata": {
  "kernelspec": {
   "display_name": "Python 3",
   "language": "python",
   "name": "python3"
  },
  "language_info": {
   "codemirror_mode": {
    "name": "ipython",
    "version": 3
   },
   "file_extension": ".py",
   "mimetype": "text/x-python",
   "name": "python",
   "nbconvert_exporter": "python",
   "pygments_lexer": "ipython3",
   "version": "3.8.8"
  }
 },
 "nbformat": 4,
 "nbformat_minor": 5
}
