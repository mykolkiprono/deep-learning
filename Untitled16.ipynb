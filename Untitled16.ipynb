{
 "cells": [
  {
   "cell_type": "code",
   "execution_count": 1,
   "id": "c9f3ff74",
   "metadata": {},
   "outputs": [
    {
     "name": "stdout",
     "output_type": "stream",
     "text": [
      "Requirement already satisfied: gym[atari] in ./anaconda3/envs/tf/lib/python3.9/site-packages (0.18.3)\n",
      "Requirement already satisfied: Pillow<=8.2.0 in ./anaconda3/envs/tf/lib/python3.9/site-packages (from gym[atari]) (8.2.0)\n",
      "Requirement already satisfied: scipy in ./anaconda3/envs/tf/lib/python3.9/site-packages (from gym[atari]) (1.6.2)\n",
      "Requirement already satisfied: cloudpickle<1.7.0,>=1.2.0 in ./anaconda3/envs/tf/lib/python3.9/site-packages (from gym[atari]) (1.6.0)\n",
      "Requirement already satisfied: pyglet<=1.5.15,>=1.4.0 in ./anaconda3/envs/tf/lib/python3.9/site-packages (from gym[atari]) (1.5.15)\n",
      "Requirement already satisfied: numpy>=1.10.4 in ./anaconda3/envs/tf/lib/python3.9/site-packages (from gym[atari]) (1.20.2)\n",
      "Collecting atari-py~=0.2.0\n",
      "  Downloading atari_py-0.2.9-cp39-cp39-manylinux_2_17_x86_64.manylinux2014_x86_64.whl (2.8 MB)\n",
      "\u001b[K     |████████████████████████████████| 2.8 MB 3.0 MB/s eta 0:00:01\n",
      "\u001b[?25hCollecting opencv-python>=3.\n",
      "  Downloading opencv_python-4.5.2.54-cp39-cp39-manylinux2014_x86_64.whl (51.0 MB)\n",
      "\u001b[K     |████████████████████████████████| 51.0 MB 28 kB/s  eta 0:00:01    |█▌                              | 2.5 MB 2.0 MB/s eta 0:00:24     |███████████████                 | 23.8 MB 3.8 MB/s eta 0:00:08\n",
      "\u001b[?25hRequirement already satisfied: six in ./anaconda3/envs/tf/lib/python3.9/site-packages (from atari-py~=0.2.0->gym[atari]) (1.15.0)\n",
      "Installing collected packages: opencv-python, atari-py\n",
      "Successfully installed atari-py-0.2.9 opencv-python-4.5.2.54\n"
     ]
    }
   ],
   "source": [
    "!pip install gym[atari]"
   ]
  },
  {
   "cell_type": "code",
   "execution_count": 2,
   "id": "8ba4d0d1",
   "metadata": {},
   "outputs": [
    {
     "name": "stdout",
     "output_type": "stream",
     "text": [
      "Collecting keras-rl2\n",
      "  Downloading keras_rl2-1.0.5-py3-none-any.whl (52 kB)\n",
      "\u001b[K     |████████████████████████████████| 52 kB 67 kB/s  eta 0:00:01\n",
      "\u001b[?25hRequirement already satisfied: tensorflow in ./anaconda3/envs/tf/lib/python3.9/site-packages (from keras-rl2) (2.4.1)\n",
      "Requirement already satisfied: protobuf>=3.9.2 in ./anaconda3/envs/tf/lib/python3.9/site-packages (from tensorflow->keras-rl2) (3.14.0)\n",
      "Requirement already satisfied: typing-extensions~=3.7.4 in ./anaconda3/envs/tf/lib/python3.9/site-packages (from tensorflow->keras-rl2) (3.7.4.3)\n",
      "Requirement already satisfied: wheel~=0.35 in ./anaconda3/envs/tf/lib/python3.9/site-packages (from tensorflow->keras-rl2) (0.36.2)\n",
      "Collecting gast==0.3.3\n",
      "  Downloading gast-0.3.3-py2.py3-none-any.whl (9.7 kB)\n",
      "Requirement already satisfied: tensorflow-estimator<2.5.0,>=2.4.0 in ./anaconda3/envs/tf/lib/python3.9/site-packages (from tensorflow->keras-rl2) (2.4.0)\n",
      "Collecting numpy~=1.19.2\n",
      "  Downloading numpy-1.19.5-cp39-cp39-manylinux2010_x86_64.whl (14.9 MB)\n",
      "\u001b[K     |████████████████████████████████| 14.9 MB 693 kB/s eta 0:00:01    |▋                               | 307 kB 680 kB/s eta 0:00:22     |██████████████████████████████▊ | 14.3 MB 712 kB/s eta 0:00:01\n",
      "\u001b[?25hRequirement already satisfied: termcolor~=1.1.0 in ./anaconda3/envs/tf/lib/python3.9/site-packages (from tensorflow->keras-rl2) (1.1.0)\n",
      "Requirement already satisfied: wrapt~=1.12.1 in ./anaconda3/envs/tf/lib/python3.9/site-packages (from tensorflow->keras-rl2) (1.12.1)\n",
      "Requirement already satisfied: h5py~=2.10.0 in ./anaconda3/envs/tf/lib/python3.9/site-packages (from tensorflow->keras-rl2) (2.10.0)\n",
      "Requirement already satisfied: keras-preprocessing~=1.1.2 in ./anaconda3/envs/tf/lib/python3.9/site-packages (from tensorflow->keras-rl2) (1.1.2)\n",
      "Requirement already satisfied: google-pasta~=0.2 in ./anaconda3/envs/tf/lib/python3.9/site-packages (from tensorflow->keras-rl2) (0.2.0)\n",
      "Requirement already satisfied: astunparse~=1.6.3 in ./anaconda3/envs/tf/lib/python3.9/site-packages (from tensorflow->keras-rl2) (1.6.3)\n",
      "Collecting grpcio~=1.32.0\n",
      "  Downloading grpcio-1.32.0.tar.gz (20.8 MB)\n",
      "\u001b[K     |████████████████████████████████| 20.8 MB 28 kB/s  eta 0:00:01    |████████████▋                   | 8.2 MB 507 kB/s eta 0:00:25     |████████████████████▌           | 13.3 MB 227 kB/s eta 0:00:33     |████████████████████▊           | 13.5 MB 227 kB/s eta 0:00:33     |██████████████████████▊         | 14.8 MB 294 kB/s eta 0:00:21\n",
      "\u001b[?25hRequirement already satisfied: absl-py~=0.10 in ./anaconda3/envs/tf/lib/python3.9/site-packages (from tensorflow->keras-rl2) (0.12.0)\n",
      "Requirement already satisfied: six~=1.15.0 in ./anaconda3/envs/tf/lib/python3.9/site-packages (from tensorflow->keras-rl2) (1.15.0)\n",
      "Collecting flatbuffers~=1.12.0\n",
      "  Downloading flatbuffers-1.12-py2.py3-none-any.whl (15 kB)\n",
      "Requirement already satisfied: opt-einsum~=3.3.0 in ./anaconda3/envs/tf/lib/python3.9/site-packages (from tensorflow->keras-rl2) (3.3.0)\n",
      "Requirement already satisfied: tensorboard~=2.4 in ./anaconda3/envs/tf/lib/python3.9/site-packages (from tensorflow->keras-rl2) (2.4.0)\n",
      "Requirement already satisfied: google-auth<2,>=1.6.3 in ./anaconda3/envs/tf/lib/python3.9/site-packages (from tensorboard~=2.4->tensorflow->keras-rl2) (1.30.0)\n",
      "Requirement already satisfied: requests<3,>=2.21.0 in ./anaconda3/envs/tf/lib/python3.9/site-packages (from tensorboard~=2.4->tensorflow->keras-rl2) (2.25.1)\n",
      "Requirement already satisfied: markdown>=2.6.8 in ./anaconda3/envs/tf/lib/python3.9/site-packages (from tensorboard~=2.4->tensorflow->keras-rl2) (3.3.4)\n",
      "Requirement already satisfied: tensorboard-plugin-wit>=1.6.0 in ./anaconda3/envs/tf/lib/python3.9/site-packages (from tensorboard~=2.4->tensorflow->keras-rl2) (1.6.0)\n",
      "Requirement already satisfied: google-auth-oauthlib<0.5,>=0.4.1 in ./anaconda3/envs/tf/lib/python3.9/site-packages (from tensorboard~=2.4->tensorflow->keras-rl2) (0.4.4)\n",
      "Requirement already satisfied: setuptools>=41.0.0 in ./anaconda3/envs/tf/lib/python3.9/site-packages (from tensorboard~=2.4->tensorflow->keras-rl2) (52.0.0.post20210125)\n",
      "Requirement already satisfied: werkzeug>=0.11.15 in ./anaconda3/envs/tf/lib/python3.9/site-packages (from tensorboard~=2.4->tensorflow->keras-rl2) (1.0.1)\n",
      "Requirement already satisfied: rsa<5,>=3.1.4 in ./anaconda3/envs/tf/lib/python3.9/site-packages (from google-auth<2,>=1.6.3->tensorboard~=2.4->tensorflow->keras-rl2) (4.7.2)\n",
      "Requirement already satisfied: pyasn1-modules>=0.2.1 in ./anaconda3/envs/tf/lib/python3.9/site-packages (from google-auth<2,>=1.6.3->tensorboard~=2.4->tensorflow->keras-rl2) (0.2.8)\n",
      "Requirement already satisfied: cachetools<5.0,>=2.0.0 in ./anaconda3/envs/tf/lib/python3.9/site-packages (from google-auth<2,>=1.6.3->tensorboard~=2.4->tensorflow->keras-rl2) (4.2.2)\n",
      "Requirement already satisfied: requests-oauthlib>=0.7.0 in ./anaconda3/envs/tf/lib/python3.9/site-packages (from google-auth-oauthlib<0.5,>=0.4.1->tensorboard~=2.4->tensorflow->keras-rl2) (1.3.0)\n",
      "Requirement already satisfied: pyasn1<0.5.0,>=0.4.6 in ./anaconda3/envs/tf/lib/python3.9/site-packages (from pyasn1-modules>=0.2.1->google-auth<2,>=1.6.3->tensorboard~=2.4->tensorflow->keras-rl2) (0.4.8)\n",
      "Requirement already satisfied: idna<3,>=2.5 in ./anaconda3/envs/tf/lib/python3.9/site-packages (from requests<3,>=2.21.0->tensorboard~=2.4->tensorflow->keras-rl2) (2.10)\n",
      "Requirement already satisfied: urllib3<1.27,>=1.21.1 in ./anaconda3/envs/tf/lib/python3.9/site-packages (from requests<3,>=2.21.0->tensorboard~=2.4->tensorflow->keras-rl2) (1.26.4)\n",
      "Requirement already satisfied: chardet<5,>=3.0.2 in ./anaconda3/envs/tf/lib/python3.9/site-packages (from requests<3,>=2.21.0->tensorboard~=2.4->tensorflow->keras-rl2) (3.0.4)\n",
      "Requirement already satisfied: certifi>=2017.4.17 in ./anaconda3/envs/tf/lib/python3.9/site-packages (from requests<3,>=2.21.0->tensorboard~=2.4->tensorflow->keras-rl2) (2020.12.5)\n",
      "Requirement already satisfied: oauthlib>=3.0.0 in ./anaconda3/envs/tf/lib/python3.9/site-packages (from requests-oauthlib>=0.7.0->google-auth-oauthlib<0.5,>=0.4.1->tensorboard~=2.4->tensorflow->keras-rl2) (3.1.0)\n",
      "Building wheels for collected packages: grpcio\n",
      "  Building wheel for grpcio (setup.py) ... \u001b[?25ldone\n",
      "\u001b[?25h  Created wheel for grpcio: filename=grpcio-1.32.0-cp39-cp39-linux_x86_64.whl size=3491860 sha256=373317a7efaa04bc1f02db2050e371a9e5a8b02f83840ccf8862aa80992974fc\n",
      "  Stored in directory: /home/mikey/.cache/pip/wheels/28/95/38/61aa534c5c1a6f5d4af386f1ac4cafa4828c306660e4c861db\n",
      "Successfully built grpcio\n",
      "Installing collected packages: numpy, grpcio, gast, flatbuffers, keras-rl2\n",
      "  Attempting uninstall: numpy\n",
      "    Found existing installation: numpy 1.20.2\n",
      "    Uninstalling numpy-1.20.2:\n",
      "      Successfully uninstalled numpy-1.20.2\n",
      "  Attempting uninstall: grpcio\n",
      "    Found existing installation: grpcio 1.36.1\n",
      "    Uninstalling grpcio-1.36.1:\n",
      "      Successfully uninstalled grpcio-1.36.1\n",
      "  Attempting uninstall: gast\n",
      "    Found existing installation: gast 0.4.0\n",
      "    Uninstalling gast-0.4.0:\n",
      "      Successfully uninstalled gast-0.4.0\n",
      "  Attempting uninstall: flatbuffers\n",
      "    Found existing installation: flatbuffers 20210226132247\n",
      "    Uninstalling flatbuffers-20210226132247:\n",
      "      Successfully uninstalled flatbuffers-20210226132247\n",
      "Successfully installed flatbuffers-1.12 gast-0.3.3 grpcio-1.32.0 keras-rl2-1.0.5 numpy-1.19.5\n"
     ]
    }
   ],
   "source": [
    "!pip install keras-rl2"
   ]
  },
  {
   "cell_type": "code",
   "execution_count": null,
   "id": "0dc7e658",
   "metadata": {},
   "outputs": [],
   "source": []
  }
 ],
 "metadata": {
  "kernelspec": {
   "display_name": "Python 3",
   "language": "python",
   "name": "python3"
  },
  "language_info": {
   "codemirror_mode": {
    "name": "ipython",
    "version": 3
   },
   "file_extension": ".py",
   "mimetype": "text/x-python",
   "name": "python",
   "nbconvert_exporter": "python",
   "pygments_lexer": "ipython3",
   "version": "3.9.5"
  }
 },
 "nbformat": 4,
 "nbformat_minor": 5
}
