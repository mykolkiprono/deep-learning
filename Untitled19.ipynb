{
 "cells": [
  {
   "cell_type": "code",
   "execution_count": 2,
   "id": "539a1fa6",
   "metadata": {},
   "outputs": [],
   "source": [
    "import tensorflow_datasets as tfds"
   ]
  },
  {
   "cell_type": "code",
   "execution_count": 5,
   "id": "423376f9",
   "metadata": {},
   "outputs": [],
   "source": [
    "# ds = tfds.load('mnist', split='train',t shuffle_files=True)\n",
    "# assert isinstance(ds, tf.data.Dataset)\n",
    "# print(ds)\n"
   ]
  },
  {
   "cell_type": "code",
   "execution_count": 10,
   "id": "0ddfe78b",
   "metadata": {},
   "outputs": [],
   "source": [
    "# data = tfds.load('cifar10')"
   ]
  },
  {
   "cell_type": "code",
   "execution_count": 11,
   "id": "7ecd466d",
   "metadata": {},
   "outputs": [],
   "source": [
    "mnist = tfds.image.MNIST()"
   ]
  },
  {
   "cell_type": "code",
   "execution_count": 12,
   "id": "6569eb52",
   "metadata": {},
   "outputs": [],
   "source": [
    "mnist = tfds.builder('mnist')\n"
   ]
  },
  {
   "cell_type": "code",
   "execution_count": 13,
   "id": "d49fc820",
   "metadata": {},
   "outputs": [
    {
     "data": {
      "text/plain": [
       "tensorflow_datasets.image_classification.mnist.MNIST"
      ]
     },
     "execution_count": 13,
     "metadata": {},
     "output_type": "execute_result"
    }
   ],
   "source": [
    "type(mnist)"
   ]
  },
  {
   "cell_type": "code",
   "execution_count": null,
   "id": "a72cc3f3",
   "metadata": {},
   "outputs": [],
   "source": [
    "data = next(iter(mnist))"
   ]
  },
  {
   "cell_type": "code",
   "execution_count": null,
   "id": "0f51d895",
   "metadata": {},
   "outputs": [],
   "source": [
    "mnist.cache()"
   ]
  },
  {
   "cell_type": "code",
   "execution_count": null,
   "id": "a0c2375c",
   "metadata": {},
   "outputs": [
    {
     "name": "stdout",
     "output_type": "stream",
     "text": [
      "\u001b[1mDownloading and preparing dataset Unknown size (download: Unknown size, generated: Unknown size, total: Unknown size) to /home/mikey/tensorflow_datasets/mnist/3.0.1...\u001b[0m\n"
     ]
    }
   ],
   "source": [
    "data = tfds.load('mnist', as_supervised = True, with_info = True)"
   ]
  },
  {
   "cell_type": "code",
   "execution_count": null,
   "id": "d0b44ef4",
   "metadata": {},
   "outputs": [],
   "source": []
  }
 ],
 "metadata": {
  "kernelspec": {
   "display_name": "Python 3",
   "language": "python",
   "name": "python3"
  },
  "language_info": {
   "codemirror_mode": {
    "name": "ipython",
    "version": 3
   },
   "file_extension": ".py",
   "mimetype": "text/x-python",
   "name": "python",
   "nbconvert_exporter": "python",
   "pygments_lexer": "ipython3",
   "version": "3.7.10"
  }
 },
 "nbformat": 4,
 "nbformat_minor": 5
}
